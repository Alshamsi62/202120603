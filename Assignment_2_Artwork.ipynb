{
  "nbformat": 4,
  "nbformat_minor": 0,
  "metadata": {
    "colab": {
      "provenance": [],
      "authorship_tag": "ABX9TyMJ9Xz4oXgQqeQMROYot45Y",
      "include_colab_link": true
    },
    "kernelspec": {
      "name": "python3",
      "display_name": "Python 3"
    },
    "language_info": {
      "name": "python"
    }
  },
  "cells": [
    {
      "cell_type": "markdown",
      "metadata": {
        "id": "view-in-github",
        "colab_type": "text"
      },
      "source": [
        "<a href=\"https://colab.research.google.com/github/Alshamsi62/202120603/blob/main/Assignment_2_Artwork.ipynb\" target=\"_parent\"><img src=\"https://colab.research.google.com/assets/colab-badge.svg\" alt=\"Open In Colab\"/></a>"
      ]
    },
    {
      "cell_type": "code",
      "source": [
        "class Artwork:\n",
        "    def __init__(self, id, title, artist, date_created, historical_significance, location):\n",
        "        self.id = id\n",
        "        self.title = title\n",
        "        self.artist = artist\n",
        "        self.date_created = date_created\n",
        "        self.historical_significance = historical_significance\n",
        "        self.location = location"
      ],
      "metadata": {
        "colab": {
          "base_uri": "https://localhost:8080/"
        },
        "id": "ouY4wKhks4y8",
        "outputId": "f79a5c5f-4be2-411c-e572-7134f2853e59"
      },
      "execution_count": 4,
      "outputs": [
        {
          "output_type": "stream",
          "name": "stdout",
          "text": [
            "Artwork 'Mona Lisa' added to exhibition 'Renaissance Art'.\n",
            "Ticket for 'Louvre Night' purchased by Rashed, Price: 105.0 AED.\n"
          ]
        }
      ]
    },
    {
      "cell_type": "code",
      "source": [
        "class Exhibition:\n",
        "    def __init__(self, id, name, start_date, end_date):\n",
        "        self.id = id\n",
        "        self.name = name\n",
        "        self.start_date = start_date\n",
        "        self.end_date = end_date\n",
        "        self.artworks = []\n",
        "\n",
        "    def add_artwork(self, artwork):\n",
        "        self.artworks.append(artwork)"
      ],
      "metadata": {
        "id": "CHwp9z-c32nm"
      },
      "execution_count": null,
      "outputs": []
    },
    {
      "cell_type": "code",
      "source": [
        "class Event(Exhibition):\n",
        "    def __init__(self, id, name, start_date, end_date, ticket_price, purpose):\n",
        "        super().__init__(id, name, start_date, end_date)\n",
        "        self.ticket_price = ticket_price\n",
        "        self.purpose = purpose"
      ],
      "metadata": {
        "id": "LWcp-8JY37L4"
      },
      "execution_count": null,
      "outputs": []
    },
    {
      "cell_type": "code",
      "source": [
        "class Visitor:\n",
        "    def __init__(self, id, name, age, category):\n",
        "        self.id = id\n",
        "        self.name = name\n",
        "        self.age = age\n",
        "        self.category = category"
      ],
      "metadata": {
        "id": "CeWoEuaH3-tI"
      },
      "execution_count": null,
      "outputs": []
    },
    {
      "cell_type": "code",
      "source": [
        "class Ticket:\n",
        "    def __init__(self, id, exhibition_id, visitor_id, date, price):\n",
        "        self.id = id\n",
        "        self.exhibition_id = exhibition_id\n",
        "        self.visitor_id = visitor_id\n",
        "        self.date = date\n",
        "        self.price = price"
      ],
      "metadata": {
        "id": "rRPlvTSd4B7r"
      },
      "execution_count": null,
      "outputs": []
    },
    {
      "cell_type": "code",
      "source": [
        "class PricingStrategy:\n",
        "    def calculate_price(self, visitor, exhibition):\n",
        "        base_price = 100  # Example base price\n",
        "        if visitor.category == \"child\" or visitor.category == \"senior\":\n",
        "            return 0  # Free for children and seniors\n",
        "        elif visitor.category == \"group\":\n",
        "            return base_price * 0.5  # 50% discount for groups\n",
        "        else:\n",
        "            return base_price + base_price * 0.05  # 5% VAT for others"
      ],
      "metadata": {
        "id": "3JTjrm1G4EOx"
      },
      "execution_count": null,
      "outputs": []
    },
    {
      "cell_type": "code",
      "source": [
        "# Test cases\n",
        "def main():\n",
        "    # Adding an artwork\n",
        "    mona_lisa = Artwork(1, \"Mona Lisa\", \"Leonardo da Vinci\", \"1503\", \"Renaissance\", \"Louvre Paris\")\n",
        "    renaissance_exhibition = Exhibition(1, \"Renaissance Art\", \"2021-01-01\", \"2021-12-31\")\n",
        "    renaissance_exhibition.add_artwork(mona_lisa)\n",
        "\n",
        "    # Visitor purchasing a ticket for an event\n",
        "    visitor_Rashed = Visitor(1, \"Rashed\", 20, \"adult\")\n",
        "    louvre_night = Event(2, \"Louvre Night\", \"2022-05-01\", \"2022-05-02\", 150, \"Special night tour\")\n",
        "    pricing = PricingStrategy()\n",
        "    ticket_price = pricing.calculate_price(visitor_Rashed, louvre_night)\n",
        "    Rashed_ticket = Ticket(1, louvre_night.id, visitor_Rashed.id, \"2022-05-01\", ticket_price)\n",
        "\n",
        "    print(f\"Artwork '{mona_lisa.title}' added to exhibition '{renaissance_exhibition.name}'.\")\n",
        "    print(f\"Ticket for '{louvre_night.name}' purchased by {visitor_Rashed.name}, Price: {Rashed_ticket.price} AED.\")\n",
        "\n",
        "if __name__ == \"__main__\":\n",
        "    main()"
      ],
      "metadata": {
        "colab": {
          "base_uri": "https://localhost:8080/"
        },
        "id": "c0pDptL04G3y",
        "outputId": "72e43caf-fc3a-4692-c31a-7487d4de3798"
      },
      "execution_count": 10,
      "outputs": [
        {
          "output_type": "stream",
          "name": "stdout",
          "text": [
            "Artwork 'Mona Lisa' added to exhibition 'Renaissance Art'.\n",
            "Ticket for 'Louvre Night' purchased by Rashed, Price: 105.0 AED.\n"
          ]
        }
      ]
    },
    {
      "cell_type": "code",
      "source": [
        "def test_open_new_exhibition():\n",
        "    impressionism_exhibition = Exhibition(2, \"Impressionism: The Light of Nature\", \"2023-04-01\", \"2023-10-31\")\n",
        "    print(f\"New exhibition opened: {impressionism_exhibition.name}\")\n",
        "\n",
        "def test_purchase_tickets_by_group():\n",
        "    group_visitor = Visitor(2, \"ZU's Art Class\", 18, \"group\")\n",
        "    starry_night_event = Event(3, \"Starry Night Over the Rhone\", \"2023-06-15\", \"2023-06-15\", 120, \"Art Class Special\")\n",
        "    pricing_strategy = PricingStrategy()\n",
        "    ticket_price_for_group = pricing_strategy.calculate_price(group_visitor, starry_night_event)\n",
        "    group_ticket = Ticket(2, starry_night_event.id, group_visitor.id, \"2023-06-15\", ticket_price_for_group)\n",
        "    print(f\"Ticket for '{starry_night_event.name}' purchased by {group_visitor.name}, Price: {group_ticket.price} AED for the group.\")\n",
        "\n",
        "def test_display_payment_receipts():\n",
        "    visitor_andrew = Visitor(3, \"Andrew\", 40, \"adult\")\n",
        "    special_night_event = Event(4, \"Louvre Special Night\", \"2023-07-01\", \"2023-07-01\", 200, \"Night at the Museum\")\n",
        "    pricing_strategy = PricingStrategy()\n",
        "    andrew_ticket_price = pricing_strategy.calculate_price(visitor_andrew, special_night_event)\n",
        "    andrew_ticket = Ticket(3, special_night_event.id, visitor_andrew.id, \"2023-07-01\", andrew_ticket_price)\n",
        "    print(\"Payment Receipt:\")\n",
        "    print(f\"Visitor: {visitor_andrew.name}\")\n",
        "    print(f\"Event: {special_night_event.name}\")\n",
        "    print(f\"Date: {andrew_ticket.date}\")\n",
        "    print(f\"Price: {andrew_ticket.price} AED\")\n",
        "\n",
        "\n",
        "def main():\n",
        "    test_open_new_exhibition()\n",
        "    test_purchase_tickets_by_group()\n",
        "    test_display_payment_receipts()\n",
        "\n",
        "if __name__ == \"__main__\":\n",
        "    main()\n"
      ],
      "metadata": {
        "colab": {
          "base_uri": "https://localhost:8080/"
        },
        "id": "tpZFM8jC100l",
        "outputId": "e3872469-368d-4be7-9776-fc71cf110e41"
      },
      "execution_count": 9,
      "outputs": [
        {
          "output_type": "stream",
          "name": "stdout",
          "text": [
            "New exhibition opened: Impressionism: The Light of Nature\n",
            "Ticket for 'Starry Night Over the Rhone' purchased by ZU's Art Class, Price: 50.0 AED for the group.\n",
            "Payment Receipt:\n",
            "Visitor: Andrew\n",
            "Event: Louvre Special Night\n",
            "Date: 2023-07-01\n",
            "Price: 105.0 AED\n"
          ]
        }
      ]
    }
  ]
}